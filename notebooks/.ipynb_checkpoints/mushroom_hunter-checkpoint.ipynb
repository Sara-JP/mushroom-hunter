{
 "cells": [
  {
   "cell_type": "markdown",
   "id": "d333515a",
   "metadata": {},
   "source": [
    "<h1 align=center style=\"line-height:200%;font-family:vazir;color:#0099cc\">\n",
    "<font face=\"vazir\" color=\"#0099cc\">\n",
    "شکارچی قارچ\n",
    "</font>\n",
    "</h1>\n",
    "\n",
    "<center>\n",
    "<img src=\"mushroom.jpg\">\n",
    "</center>"
   ]
  },
  {
   "cell_type": "markdown",
   "id": "6ed20bff",
   "metadata": {},
   "source": [
    "<h2 align=right style=\"line-height:200%;font-family:vazir;color:#0099cc\">\n",
    "<font face=\"vazir\" color=\"#0099cc\">\n",
    "مقدمه و صورت مسئله\n",
    "</font>\n",
    "</h2>\n",
    "\n",
    "<p dir=rtl style=\"direction: rtl; text-align: justify; line-height:200%; font-family:vazir; font-size:medium\">\n",
    "<font face=\"vazir\" size=3>\n",
    "    قارچ‌ها چندان اهل شوخی نیستند و اگر یکی از گونه‌های سمی آن را با نوع خوراکی اشتباه بگیرید خطر مرگ خواهد داشت! همان‌طور که هر چند وقت یکبار خبری از این دست را در کشور خودمان نیز می‌شنویم. به همین علت است که اصلاً توصیه نمی‌شود وقتی در دل طبیعت به قارچی برخوردید هوس خوردن آن را کنید. زیرا حتی اگر از قبل با برخی از گونه‌های سمی و خوراکی آشنا باشید هم آنقدر جزئیات زیاد است که تنها یک متخصص یا قارچ‌شناس قادر است با درجه‌ی اطمینان بالایی به تفکیک این گونه‌ها بپردازد. در این تمرین از یک مجموعه‌داده‌ی قارچی کمک خواهیم گرفت و الگوریتم جنگل تصادفی را روی آن اجرا می‌کنیم تا به مدلی دست یابیم که قادر باشد با دریافت چندین ویژگی از یک قارچ،‌ سمی یا خوراکی بودن آن را نتیجه‌گیری و اعلام کند. جالب است بدانید یک اصطلاح قدیمی برای عمل رفتن به طبیعت و جمع‌آوری قارچ‌ها (اکثراً با هدف خوراکی) وجود دارد که به آن <i>شکار قارچ (mushroom hunting)</i> می‌گویند. لازمه‌‌ی اینکه شخصی شکارچی قارچ شود این است که با گونه‌های مختلف آن آشنا باشد و بتواند به کمک دانش و تجربه‌ی خود براساس ویژگی‌های مختلف،‌ نوع قارچ را تشخیص دهد. اما مشاهده خواهید کرد تا انتهای این تمرین به مدلی دست خواهیم یافت که به‌صورت هوشمند و با دقت بیشتری از انسان قادر به انجام همین کار خواهد بود.\n",
    "</font>\n",
    "</p>"
   ]
  },
  {
   "cell_type": "markdown",
   "id": "c5af1784",
   "metadata": {},
   "source": [
    "<h2 align=right style=\"line-height:200%;font-family:vazir;color:#0099cc\">\n",
    "<font face=\"vazir\" color=\"#0099cc\">\n",
    "وارد کردن کتابخانه‌های مورد نیاز\n",
    "</font>\n",
    "</h2>\n",
    "\n",
    "<p dir=rtl style=\"direction: rtl; text-align: justify; line-height:200%; font-family:vazir; font-size:medium\">\n",
    "<font face=\"vazir\" size=3>\n",
    "    ابتدا کتابخانه‌های مورد نیازتان را وارد کنید.\n",
    "</font>\n",
    "</p>"
   ]
  },
  {
   "cell_type": "code",
   "execution_count": 1,
   "id": "99450f9e",
   "metadata": {},
   "outputs": [],
   "source": [
    "import numpy as np\n",
    "import pandas as pd "
   ]
  },
  {
   "cell_type": "markdown",
   "id": "72faaed8",
   "metadata": {},
   "source": [
    "<h2 align=right style=\"line-height:200%;font-family:vazir;color:#0099cc\">\n",
    "<font face=\"vazir\" color=\"#0099cc\">\n",
    "معرفی مجموعه‌داده\n",
    "</font>\n",
    "</h2>\n",
    "\n",
    "<p dir=rtl style=\"direction: rtl; text-align: justify; line-height:200%; font-family:vazir; font-size:medium\">\n",
    "<font face=\"vazir\" size=3>\n",
    "مجموعه‌داده‌ای که در این تمرین استفاده خواهیم کرد شامل نمونه‌هایی فرضی از ۲۳ گونه‌ی مختلف قارچ‌های تیغک‌دار است. هرکدام از این گونه‌ها به عنوان قطعاً خوراکی،‌ قطعاً سمی، عدم تشخیص خوراکی‌بودن و توصیه‌نشده شناخته شده‌اند. مواردی که قطعیتی برای آن وجود ندارد نیز در نهایت برچسب سمی خورده‌اند تا فقط دو کلاس خوراکی و سمی داشته باشیم. ویژگی‌هایی که برای هر قارچ استخراج و در نظر گرفته شده در جدول زیر آمده است. مقدار هر ویژگی بصورت مخفف در مجموعه‌داده ذخیره شده اما کلمات اصلی نظیر هر مخفف نیز در جدول قابل مطالعه است. توجه داشته باشید که در ستون <code>class</code> که همان ستون متغیر هدف ما است مقدار <code>e</code> به معنی خوراکی بودن و مقدار <code>p</code> به معنی سمی بودن است.\n",
    "</font>\n",
    "</p>\n",
    "\n",
    "<center>\n",
    "<img src=\"structure.jpg\">\n",
    "</center>\n",
    "\n",
    "<center>\n",
    "<div dir=rtl style=\"direction: rtl;line-height:200%;font-family:vazir;font-size:medium\">\n",
    "<font face=\"vazir\" size=3>\n",
    "    \n",
    "|ستون|توضیحات|مقادیر و مخفف‌ها|\n",
    "|:------:|:---:|:------:|\n",
    "|cap-shape|شکل کلاهک| bell=b, conical=c, convex=x, flat=f, knobbed=k, sunken=s |\n",
    "|cap-surface|سطح کلاهک| fibrous=f, grooves=g, scaly=y, smooth=s |\n",
    "|cap-color|رنگ کلاهک| brown=n, buff=b, cinnamon=c, gray=g, green=r, pink=p, purple=u, red=e, white=w, yellow=y |\n",
    "|bruises|کبودی| bruises=t, no=f |\n",
    "|odor|عطر| almond=a, anise=l, creosote=c, fishy=y, foul=f, musty=m, none=n, pungent=p, spicy=s |\n",
    "|gill-attachment|چسبندگی تیغه| attached=a, descending=d, free=f, notched=n |\n",
    "|gill-spacing|فاصله تیغه| close=c, crowded=w, distant=d |\n",
    "|gill-size|اندازه تیغه| broad=b, narrow=n |\n",
    "|gill-color|رنگ تیغه| black=k, brown=n, buff=b, chocolate=h, gray=g, green=r, orange=o, pink=p, purple=u, red=e, white=w, yellow=y |\n",
    "|stalk-shape|شکل ساقه| enlarging=e, tapering=t |\n",
    "|stalk-root|ریشه ساقه| bulbous=b, club=c, cup=u, equal=e, rhizomorphs=z, rooted=r, missing=? |\n",
    "|stalk-surface-above-ring|سطح ریشه بالای حلقه| fibrous=f, scaly=y, silky=k, smooth=s |\n",
    "|stalk-surface-below-ring|سطح ریشه زیر حلقه| fibrous=f, scaly=y, silky=k, smooth=s |\n",
    "|stalk-color-above-ring|رنگ ریشه بالای حلقه| brown=n, buff=b, cinnamon=c, gray=g, orange=o, pink=p, red=e, white=w, yellow=y |\n",
    "|stalk-color-below-ring|رنگ ریشه زیر حلقه| brown=n, buff=b, cinnamon=c, gray=g, orange=o, pink=p, red=e, white=w, yellow=y |\n",
    "|veil-type|نوع غشا| partial=p, universal=u |\n",
    "|veil-color|رنگ غشا| brown=n, orange=o, white=w, yellow=y |\n",
    "|ring-number|تعداد حلقه| none=n, one=o, two=t |\n",
    "|ring-type|نوع حلقه| cobwebby=c, evanescent=e, flaring=f, large=l, none=n, pendant=p, sheathing=s, zone=z |\n",
    "|spore-print-color|رنگ نقش هاگ| black=k, brown=n, buff=b, chocolate=h, green=r, orange=o, purple=u, white=w, yellow=y |\n",
    "|population|جمعیت| abundant=a, clustered=c, numerous=n, scattered=s, several=v, solitary=y |\n",
    "|habitat|زیست‌گاه| grasses=g, leaves=l, meadows=m, paths=p, urban=u, waste=w, woods=d |\n",
    "|class|گونه (برچسب)| edible=e, poisonous=p |\n",
    "    \n",
    "</font>\n",
    "</div>\n",
    "</center>\n"
   ]
  },
  {
   "cell_type": "markdown",
   "id": "e99bbe9b",
   "metadata": {},
   "source": [
    "<h2 align=right style=\"line-height:200%;font-family:vazir;color:#0099cc\">\n",
    "<font face=\"vazir\" color=\"#0099cc\">\n",
    "خواندن مجموعه‌داده\n",
    "</font>\n",
    "</h2>\n",
    "\n",
    "<p dir=rtl style=\"direction: rtl; text-align: justify; line-height:200%; font-family:vazir; font-size:medium\">\n",
    "<font face=\"vazir\" size=3>\n",
    "    در ابتدا نیاز است فایل‌های مجموعه‌داده را بخوانید. نمونه‌های آموزشی در فایل <code>train.csv</code> و نمونه‌های آزمون که باید دسته‌ی آن‌ها را پیش‌بینی کنید در فایل <code>test.csv</code> ذخیره شده‌اند. اگر لازم دانستید می‌توانید به دلخواه خود بخشی از مجموعه‌ی آموزشی را به عنوان مجموعه‌ی اعتبارسنجی نیز جدا کنید.\n",
    "</font>\n",
    "</p>"
   ]
  },
  {
   "cell_type": "code",
   "execution_count": null,
   "id": "7dcb9e87",
   "metadata": {},
   "outputs": [],
   "source": [
    "train_data = None # To-Do\n",
    "train_data"
   ]
  },
  {
   "cell_type": "code",
   "execution_count": null,
   "id": "adb6ba5a",
   "metadata": {},
   "outputs": [],
   "source": [
    "test_data = None # To-Do\n",
    "test_data"
   ]
  },
  {
   "cell_type": "markdown",
   "id": "23daec54",
   "metadata": {},
   "source": [
    "<h2 align=right style=\"line-height:200%;font-family:vazir;color:#0099cc\">\n",
    "<font face=\"vazir\" color=\"#0099cc\">\n",
    "پیش‌پردازش و مهندسی ویژگی\n",
    "</font>\n",
    "</h2>\n",
    "\n",
    "<p dir=rtl style=\"direction: rtl; text-align: justify; line-height:200%; font-family:vazir; font-size:medium\">\n",
    "<font face=\"vazir\" size=3>\n",
    "    در این سوال شما می‌توانید از هر تکنیک پیش‌پردازش/مهندسی ویژگی که در فصل‌های گذشته آموختید، استفاده کنید.\n",
    "    <br>\n",
    "    تکنیک‌هایی که استفاده می‌کنید به شکل مستقیم مورد ارزیابی توسط سامانه داوری قرار <b>نمی‌گیرند.</b> بلکه همه آن‌ها در دقت مدل شما تاثیر خواهند گذاشت؛ بنابراین هر چه پیش‌پردازش/مهندسی ویژگی بهتری انجام دهید تا دقت مدل بهبود پیدا کند، امتیاز بیشتری از این سوال کسب خواهید کرد.\n",
    "</font>\n",
    "</p>"
   ]
  },
  {
   "cell_type": "code",
   "execution_count": null,
   "id": "f7c23000",
   "metadata": {},
   "outputs": [],
   "source": [
    "# do some preprocessing!"
   ]
  },
  {
   "cell_type": "markdown",
   "id": "f99f2c94",
   "metadata": {},
   "source": [
    "<h2 align=right style=\"line-height:200%;font-family:vazir;color:#0099cc\">\n",
    "<font face=\"vazir\" color=\"#0099cc\">\n",
    "مدل‌سازی\n",
    "</font>\n",
    "</h2>\n",
    "\n",
    "<p dir=rtl style=\"direction: rtl; text-align: justify; line-height:200%; font-family:vazir; font-size:medium\">\n",
    "<font face=\"vazir\" size=3>\n",
    "    حال که داده را پاکسازی کرده و احتمالا ویژگی‌هایی را به آن افزوده یا از آن حذف کرده‌اید، وقت آن است که مدلی آموزش دهید که بتواند متغیر هدف این مسئله را پیش‌بینی کند.\n",
    "</font>\n",
    "</p>"
   ]
  },
  {
   "cell_type": "markdown",
   "id": "84ccbf48",
   "metadata": {},
   "source": [
    "<h3 align=right style=\"direction: rtl;text-align: right;line-height:200%;font-family:vazir;color:#0099cc\">\n",
    "<font face=\"vazir\" color=\"#0099cc\">\n",
    "    استفاده از <code>scikit-learn</code>\n",
    "</font>\n",
    "</h3>\n",
    "\n",
    "\n",
    "<p dir=rtl style=\"direction: rtl;text-align: right;line-height:200%;font-family:vazir;font-size:medium\">\n",
    "<font face=\"vazir\" size=3>\n",
    "    الگوریتم <i>جنگل تصادفی</i> با نام <code>RandomForestClassifier</code> در پکیج <code>ensemble</code> این کتابخانه در دسترس است. برخی از آرگومان‌های مهم آن در جدول زیر آمده است، اما جهت مطالعه‌ی کامل‌تر مستندات می‌توانید به <a href=\"https://scikit-learn.org/stable/modules/generated/sklearn.ensemble.RandomForestClassifier.html\" target=\"_blank\">این لینک</a> مراجعه فرمایید.\n",
    "</font>\n",
    "</p>\n",
    "\n",
    "<center>\n",
    "<div dir=rtl style=\"line-height:200%;font-family:vazir;font-size:medium\">\n",
    "<font face=\"vazir\" size=3>\n",
    "    \n",
    "|آرگومان|توضیحات|\n",
    "|:------:|:---:|\n",
    "|<code>n_estimators</code>|تعداد درخت جنگل|\n",
    "|<code>max_depth</code>|حداکثر عمق یک درخت|\n",
    "|<code>bootstrap</code>|آیا از تکنیک بوت‌استرپ در هنگام ساخت درخت استفاده شود یا خیر. اگر معادل <code>False</code> تنظیم شود از کل مجموعه‌داده استفاده خواهد شد.|\n",
    "|<code>oob_score</code>|آیا از نمونه‌های خارج از بگ جهت ارزیابی استفاده شود یا خیر. تنها در صورتی که <code>bootstrap</code> معادل <code>True</code> تنظیم شده باشد.|\n",
    "|<code>max_samples</code>|تعداد نمونه‌هایی که در بوت‌استرپ از مجموعه‌داده انتخاب می‌شود تا به کمک آن یک درخت تولید گردد.|\n",
    "    \n",
    "</font>\n",
    "</div>\n",
    "</center>\n"
   ]
  },
  {
   "cell_type": "markdown",
   "id": "7d90b4d9",
   "metadata": {},
   "source": [
    "<h3 align=right style=\"line-height:200%;font-family:vazir;color:#0099cc\">\n",
    "<font face=\"vazir\" color=\"#0099cc\">\n",
    "آموزش مدل\n",
    "</font>\n",
    "</h3>\n",
    "\n",
    "<p dir=rtl style=\"direction: rtl; text-align: justify; line-height:200%; font-family:vazir; font-size:medium\">\n",
    "<font face=\"vazir\" size=3>\n",
    "    در سلول زیر با استفاده از مدل آماده‌ای که در بالا شرح داده شد و به کمک تابع <code>fit</code> الگوریتم را بر روی مجموعه‌ی آموزشی اجرا کنید.\n",
    "</font>\n",
    "</p>"
   ]
  },
  {
   "cell_type": "code",
   "execution_count": null,
   "id": "03d20a30",
   "metadata": {},
   "outputs": [],
   "source": [
    "from sklearn.ensemble import RandomForestClassifier\n",
    "\n",
    "model = None # To-Do"
   ]
  },
  {
   "cell_type": "markdown",
   "id": "33da5d2a",
   "metadata": {},
   "source": [
    "<h3 align=right style=\"line-height:200%;font-family:vazir;color:#0099cc\">\n",
    "<font face=\"vazir\" color=\"#0099cc\">\n",
    "معیار ارزیابی\n",
    "</font>\n",
    "</h3>\n",
    "\n",
    "<p dir=rtl style=\"direction: rtl; text-align: justify; line-height:200%;font-family:vazir;font-size:medium\">\n",
    "<font face=\"vazir\" size=3>\n",
    "    از آنجا که تشخیص اشتباه یک قارچ سمی به عنوان خوراکی می‌تواند منجر به مرگ شخصی شود، باید سعی کنیم به مدلی دست یابیم که تا حد ممکن قارچی را که سمی است به اشتباه خوراکی تشخیص ندهد. به بیان دیگر <code>tn</code> در این مسئله اهمیت بالایی دارد. به همین دلیل معیاری که برای ارزیابی عملکرد مدل انتخاب کرده‌ایم، معیار <code>Recall</code> است.\n",
    "    <br>\n",
    "    این معیار، سنجه ارزیابی کیفیت مدل شماست. به عبارت بهتر در سامانه داوری هم از همین معیار برای نمره‌دهی استفاده شده است.\n",
    "    <br>\n",
    "    پیشنهاد می‌شود با توجه به این معیار، عملکرد مدل خود را بر روی مجموعه‌ی آموزش یا اعتبارسنجی ارزیابی کنید.\n",
    "    <br>\n",
    "    برای محاسبه‌ی عملکرد مدل طبق این معیار می‌توانید از <code>sklearn.metrics.recall_score</code> استفاده کرده و از آنجا که قصد داریم دسته‌ی سمی را برابر کلاس مثبت در نظر بگیریم نیاز است تا آرگومان <code>pos_label</code> را معادل برچسب مربوط به کلاس سمی تنظیم کنید. جهت مطالعه‌ی مستندات این کلاس می‌توانید به <a href=\"https://scikit-learn.org/stable/modules/generated/sklearn.metrics.recall_score.html\" target=\"_blank\">این لینک</a> مراجعه فرمایید.\n",
    "</font>\n",
    "</p>"
   ]
  },
  {
   "cell_type": "markdown",
   "id": "9cf3b017",
   "metadata": {},
   "source": [
    "$$Recall=\\frac{tp}{tp+fn}$$"
   ]
  },
  {
   "cell_type": "code",
   "execution_count": null,
   "id": "cee1b883",
   "metadata": {},
   "outputs": [],
   "source": [
    "# evaluate your model\n",
    "from sklearn.metrics import recall_score\n",
    "\n",
    "# To-Do"
   ]
  },
  {
   "cell_type": "markdown",
   "id": "b483b251",
   "metadata": {},
   "source": [
    "<p dir=rtl style=\"direction: rtl; text-align: justify; line-height:200%; font-family:vazir; font-size:medium\">\n",
    "<font color=\"red\"><b color='red'>توجه:</b></font>\n",
    "<font face=\"vazir\" size=3>\n",
    " جهت کسب امتیاز کامل نیاز است تا پاسخ شما امتیاز <code>100</code> را با توجه به معیار معرفی‌شده کسب نماید.\n",
    "</font>\n",
    "</p>"
   ]
  },
  {
   "cell_type": "markdown",
   "id": "4e9984de",
   "metadata": {},
   "source": [
    "<h2 align=right style=\"line-height:200%;font-family:vazir;color:#0099cc\">\n",
    "<font face=\"vazir\" color=\"#0099cc\">\n",
    " پیش‌بینی برای داده تست و خروجی\n",
    "</font>\n",
    "</h2>\n",
    "\n",
    "<p dir=rtl style=\"direction: rtl; text-align: justify; line-height:200%; font-family:vazir; font-size:medium\">\n",
    "<font face=\"vazir\" size=3>\n",
    "    پس از مهندسی ویژگی و مدل‌سازی، الگوریتمی دارید که می‌تواند شما را از متغیرهای مستقل به متغیر هدف برساند.\n",
    "    <br>\n",
    "    از این مدل برای پیش‌بینی نمونه‌های موجود در داده تست استفاده کنید و نتایج را در قالب جدول زیر آماده کنید.\n",
    "</font>\n",
    "</p>"
   ]
  },
  {
   "cell_type": "markdown",
   "id": "c2f6d82d",
   "metadata": {},
   "source": [
    "<center>\n",
    "<div dir=rtl style=\"line-height:200%;font-family:vazir;font-size:medium\">\n",
    "<font face=\"vazir\" size=3>\n",
    "    \n",
    "|ستون|توضیحات|\n",
    "|:------:|:---:|\n",
    "|<code>class</code>|برچسب پیش‌بینی‌شده (سمی یا خوراکی)|\n",
    "    \n",
    "</font>\n",
    "</div>\n",
    "</center>\n",
    "\n",
    "\n",
    "<p dir=rtl style=\"direction: rtl; text-align: justify; line-height:200%; font-family:vazir; font-size:medium\">\n",
    "<font face=\"vazir\" size=3>\n",
    "    توجه داده باشید که نوع قارچ را باید همچون مجموعه‌داده‌ی اولیه یعنی بصورت کاراکتر (<code>p</code> یا <code>e</code>) درج کنید.\n",
    "</font>\n",
    "</p>"
   ]
  },
  {
   "cell_type": "code",
   "execution_count": null,
   "id": "3d4a0844",
   "metadata": {},
   "outputs": [],
   "source": [
    "# predict test samples\n",
    "prediction = None # To-Do"
   ]
  },
  {
   "cell_type": "markdown",
   "id": "0a77e7cd",
   "metadata": {},
   "source": [
    "<h2 align=right style=\"line-height:200%;font-family:vazir;color:#0099cc\">\n",
    "<font face=\"vazir\" color=\"#0099cc\">\n",
    "<b>سلول جواب‌ساز</b>\n",
    "</font>\n",
    "</h2>\n",
    "\n",
    "<p dir=rtl style=\"direction: rtl; text-align: justify; line-height:200%; font-family:vazir; font-size:medium\">\n",
    "<font face=\"vazir\" size=3>\n",
    "    برای ساخته‌شدن فایل <code>result.zip</code> سلول زیر را اجرا کنید. توجه داشته باشید که پیش از اجرای سلول زیر تغییرات اعمال شده در نت‌بوک را ذخیره کرده باشید (<code>ctrl+s</code>) تا در صورت نیاز به پشتیبانی امکان بررسی کد شما وجود داشته باشد.\n",
    "</font>\n",
    "</p>"
   ]
  },
  {
   "cell_type": "code",
   "execution_count": null,
   "id": "2c3bcd76",
   "metadata": {},
   "outputs": [],
   "source": [
    "import zipfile\n",
    "import joblib\n",
    "\n",
    "def compress(file_names):\n",
    "    print(\"File Paths:\")\n",
    "    print(file_names)\n",
    "    compression = zipfile.ZIP_DEFLATED\n",
    "    with zipfile.ZipFile(\"result.zip\", mode=\"w\") as zf:\n",
    "        for file_name in file_names:\n",
    "            zf.write('./' + file_name, file_name, compress_type=compression)\n",
    "\n",
    "joblib.dump(model, 'model')\n",
    "prediction.to_csv('submission.csv', index=False)\n",
    "file_names = ['mushroom_hunter.ipynb', 'submission.csv', 'model']\n",
    "compress(file_names)"
   ]
  }
 ],
 "metadata": {
  "kernelspec": {
   "display_name": "Python 3 (ipykernel)",
   "language": "python",
   "name": "python3"
  },
  "language_info": {
   "codemirror_mode": {
    "name": "ipython",
    "version": 3
   },
   "file_extension": ".py",
   "mimetype": "text/x-python",
   "name": "python",
   "nbconvert_exporter": "python",
   "pygments_lexer": "ipython3",
   "version": "3.9.2"
  },
  "vscode": {
   "interpreter": {
    "hash": "44e7e1b8fa2096bd5707ed7fd18b1724a2db25f4c565a7673f8b6e7bfc49d25d"
   }
  }
 },
 "nbformat": 4,
 "nbformat_minor": 5
}
